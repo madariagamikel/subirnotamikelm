{
 "cells": [
  {
   "cell_type": "markdown",
   "metadata": {},
   "source": [
    "EXAMEN"
   ]
  },
  {
   "cell_type": "code",
   "execution_count": 105,
   "metadata": {},
   "outputs": [],
   "source": [
    "from lxml import html\n",
    "import requests\n",
    "import codecs\n",
    "import Levenshtein\n",
    "import pandas as pd\n",
    "import numpy as np"
   ]
  },
  {
   "cell_type": "markdown",
   "metadata": {},
   "source": [
    "Ariketa 1"
   ]
  },
  {
   "cell_type": "code",
   "execution_count": 106,
   "metadata": {},
   "outputs": [],
   "source": [
    "page = requests.get('https://dreguera.github.io/')\n",
    "tree = html.fromstring(page.content)"
   ]
  },
  {
   "cell_type": "code",
   "execution_count": 107,
   "metadata": {},
   "outputs": [],
   "source": [
    "b = tree.xpath(\"//div[@id='content']/text()\")"
   ]
  },
  {
   "cell_type": "code",
   "execution_count": 108,
   "metadata": {},
   "outputs": [
    {
     "data": {
      "text/plain": [
       "['He estado corrigiendo los trabajos de Data Science y la parte de aprendizaje no supervisado la han realizado bastante bien, Â¿QuÃ© algoritmos de clustering has dado en clase?',\n",
       " 'Hola Dani, en la parte de no supervisado me he centrado sobre todo en el clustering por densidad. Hemos visto Optics, DBSCAN y HDSCAN',\n",
       " 'MeanShift para clustering por densidad habeis visto? Yo suelo utilizar para datos numÃ©ricos y me da muy buenos resultados para descartar outliers',\n",
       " 'Si, la verdad es que da buenos resultados pero cuando si puedes hacer ajustes manuales de otros parÃ¡metros, OPTICS y DBSCAN son mÃ¡s Ã³ptimos',\n",
       " 'El tema del clutering por densidad me parece super interesante pero no se si tendrÃ\\xada aplicabilidad en el Reto 7',\n",
       " 'Creo que podrÃ\\xadamos traer a una empresa para que les hablara de HDBSCAN',\n",
       " 'Guay! me parece super interesante y puede ser super enriquecedor',\n",
       " 'Perfecto']"
      ]
     },
     "execution_count": 108,
     "metadata": {},
     "output_type": "execute_result"
    }
   ],
   "source": [
    "b"
   ]
  },
  {
   "cell_type": "code",
   "execution_count": 109,
   "metadata": {},
   "outputs": [],
   "source": [
    "import string\n",
    "import nltk\n",
    "from nltk.corpus import stopwords  \n",
    "from nltk.tokenize import word_tokenize, sent_tokenize\n",
    "\n",
    "from lxml import html\n",
    "import requests\n",
    "import codecs\n",
    "\n",
    "import gensim\n"
   ]
  },
  {
   "cell_type": "markdown",
   "metadata": {},
   "source": [
    "a)"
   ]
  },
  {
   "cell_type": "code",
   "execution_count": 110,
   "metadata": {},
   "outputs": [],
   "source": [
    "file_docs=[]\n",
    "file_docs2=[]\n",
    "tokens = sent_tokenize(b[0]) #tokenize es separar por frases\n",
    "for line in tokens:\n",
    "    file_docs.append(line) #separa las frases en lineas\n",
    "    \n",
    "tokens = sent_tokenize(b[2])\n",
    "for line in tokens:\n",
    "    file_docs2.append(line)"
   ]
  },
  {
   "cell_type": "code",
   "execution_count": 111,
   "metadata": {},
   "outputs": [
    {
     "data": {
      "text/plain": [
       "['He estado corrigiendo los trabajos de Data Science y la parte de aprendizaje no supervisado la han realizado bastante bien, Â¿QuÃ© algoritmos de clustering has dado en clase?']"
      ]
     },
     "execution_count": 111,
     "metadata": {},
     "output_type": "execute_result"
    }
   ],
   "source": [
    "file_docs"
   ]
  },
  {
   "cell_type": "code",
   "execution_count": 112,
   "metadata": {},
   "outputs": [
    {
     "data": {
      "text/plain": [
       "['MeanShift para clustering por densidad habeis visto?',\n",
       " 'Yo suelo utilizar para datos numÃ©ricos y me da muy buenos resultados para descartar outliers']"
      ]
     },
     "execution_count": 112,
     "metadata": {},
     "output_type": "execute_result"
    }
   ],
   "source": [
    "file_docs2"
   ]
  },
  {
   "cell_type": "code",
   "execution_count": 113,
   "metadata": {},
   "outputs": [
    {
     "name": "stdout",
     "output_type": "stream",
     "text": [
      "{',': 0, '?': 1, 'algoritmos': 2, 'aprendizaje': 3, 'bastante': 4, 'bien': 5, 'clase': 6, 'clustering': 7, 'corrigiendo': 8, 'dado': 9, 'data': 10, 'de': 11, 'en': 12, 'estado': 13, 'han': 14, 'has': 15, 'he': 16, 'la': 17, 'los': 18, 'no': 19, 'parte': 20, 'realizado': 21, 'science': 22, 'supervisado': 23, 'trabajos': 24, 'y': 25, 'â¿quã©': 26}\n"
     ]
    }
   ],
   "source": [
    "\n",
    "gen_docs = [[w.lower() for w in word_tokenize(text)]  \n",
    "            for text in file_docs]\n",
    "\n",
    "gen_docs2 = [[w.lower() for w in word_tokenize(text)] \n",
    "            for text in file_docs2]\n",
    "\n",
    "dictionary = gensim.corpora.Dictionary(gen_docs)\n",
    "print(dictionary.token2id)\n",
    "\n",
    "corpus = [dictionary.doc2bow(gen_doc) for gen_doc in gen_docs]\n",
    "\n",
    "tf_idf = gensim.models.TfidfModel(corpus)\n",
    "\n",
    "sims = gensim.similarities.Similarity('a',tf_idf[corpus],\n",
    "                                        num_features=len(dictionary))\n",
    "\n",
    "for line in file_docs2:\n",
    "    query_doc = [w.lower() for w in word_tokenize(line)]\n",
    "    query_doc_bow = dictionary.doc2bow(query_doc)\n",
    "query_doc_tf_idf = tf_idf[query_doc_bow]\n",
    "\n",
    "import numpy as np\n",
    "\n",
    "sum_of_sims =(np.sum(sims[query_doc_tf_idf], dtype=np.float32))"
   ]
  },
  {
   "cell_type": "code",
   "execution_count": 114,
   "metadata": {},
   "outputs": [
    {
     "name": "stdout",
     "output_type": "stream",
     "text": [
      "La similitud entre estos mensjes es de este %: 0.0\n"
     ]
    }
   ],
   "source": [
    "print(f'La similitud entre estos mensjes es de este %: {float(sum_of_sims / len(file_docs)) * 100}')"
   ]
  },
  {
   "cell_type": "markdown",
   "metadata": {},
   "source": [
    "b)"
   ]
  },
  {
   "cell_type": "code",
   "execution_count": 115,
   "metadata": {},
   "outputs": [],
   "source": [
    "file_docs=[]\n",
    "file_docs2=[]\n",
    "tokens = sent_tokenize(b[1]) #tokenize es separar por frases\n",
    "for line in tokens:\n",
    "    file_docs.append(line) #separa las frases en lineas\n",
    "    \n",
    "tokens = sent_tokenize(b[3])\n",
    "for line in tokens:\n",
    "    file_docs2.append(line)"
   ]
  },
  {
   "cell_type": "code",
   "execution_count": 116,
   "metadata": {},
   "outputs": [
    {
     "name": "stdout",
     "output_type": "stream",
     "text": [
      "{',': 0, '.': 1, 'centrado': 2, 'clustering': 3, 'dani': 4, 'de': 5, 'densidad': 6, 'el': 7, 'en': 8, 'he': 9, 'hola': 10, 'la': 11, 'me': 12, 'no': 13, 'parte': 14, 'por': 15, 'sobre': 16, 'supervisado': 17, 'todo': 18, 'dbscan': 19, 'hdscan': 20, 'hemos': 21, 'optics': 22, 'visto': 23, 'y': 24}\n"
     ]
    }
   ],
   "source": [
    "\n",
    "gen_docs = [[w.lower() for w in word_tokenize(text)]  \n",
    "            for text in file_docs]\n",
    "\n",
    "gen_docs2 = [[w.lower() for w in word_tokenize(text)] \n",
    "            for text in file_docs2]\n",
    "\n",
    "dictionary = gensim.corpora.Dictionary(gen_docs)\n",
    "print(dictionary.token2id)\n",
    "\n",
    "corpus = [dictionary.doc2bow(gen_doc) for gen_doc in gen_docs]\n",
    "\n",
    "tf_idf = gensim.models.TfidfModel(corpus)\n",
    "\n",
    "sims = gensim.similarities.Similarity('a',tf_idf[corpus],\n",
    "                                        num_features=len(dictionary))\n",
    "\n",
    "for line in file_docs2:\n",
    "    query_doc = [w.lower() for w in word_tokenize(line)]\n",
    "    query_doc_bow = dictionary.doc2bow(query_doc)\n",
    "query_doc_tf_idf = tf_idf[query_doc_bow]\n",
    "\n",
    "import numpy as np\n",
    "\n",
    "sum_of_sims =(np.sum(sims[query_doc_tf_idf], dtype=np.float32))"
   ]
  },
  {
   "cell_type": "code",
   "execution_count": 117,
   "metadata": {},
   "outputs": [
    {
     "name": "stdout",
     "output_type": "stream",
     "text": [
      "La similitud entre estos mensjes es de este %: 37.14512884616852\n"
     ]
    }
   ],
   "source": [
    "print(f'La similitud entre estos mensjes es de este %: {float(sum_of_sims / len(file_docs)) * 100}')"
   ]
  },
  {
   "cell_type": "markdown",
   "metadata": {},
   "source": [
    "c)"
   ]
  },
  {
   "cell_type": "code",
   "execution_count": 118,
   "metadata": {},
   "outputs": [],
   "source": [
    "file_docs=[]\n",
    "file_docs2=[]\n",
    "tokens = sent_tokenize(b[1]) #tokenize es separar por frases\n",
    "for line in tokens:\n",
    "    file_docs.append(line) #separa las frases en lineas\n",
    "    \n",
    "tokens = sent_tokenize(b[4])\n",
    "for line in tokens:\n",
    "    file_docs2.append(line)"
   ]
  },
  {
   "cell_type": "code",
   "execution_count": 119,
   "metadata": {},
   "outputs": [
    {
     "name": "stdout",
     "output_type": "stream",
     "text": [
      "{',': 0, '.': 1, 'centrado': 2, 'clustering': 3, 'dani': 4, 'de': 5, 'densidad': 6, 'el': 7, 'en': 8, 'he': 9, 'hola': 10, 'la': 11, 'me': 12, 'no': 13, 'parte': 14, 'por': 15, 'sobre': 16, 'supervisado': 17, 'todo': 18, 'dbscan': 19, 'hdscan': 20, 'hemos': 21, 'optics': 22, 'visto': 23, 'y': 24}\n"
     ]
    }
   ],
   "source": [
    "\n",
    "gen_docs = [[w.lower() for w in word_tokenize(text)]  \n",
    "            for text in file_docs]\n",
    "\n",
    "gen_docs2 = [[w.lower() for w in word_tokenize(text)] \n",
    "            for text in file_docs2]\n",
    "\n",
    "dictionary = gensim.corpora.Dictionary(gen_docs)\n",
    "print(dictionary.token2id)\n",
    "\n",
    "corpus = [dictionary.doc2bow(gen_doc) for gen_doc in gen_docs]\n",
    "\n",
    "tf_idf = gensim.models.TfidfModel(corpus)\n",
    "\n",
    "sims = gensim.similarities.Similarity('a',tf_idf[corpus],\n",
    "                                        num_features=len(dictionary))\n",
    "\n",
    "for line in file_docs2:\n",
    "    query_doc = [w.lower() for w in word_tokenize(line)]\n",
    "    query_doc_bow = dictionary.doc2bow(query_doc)\n",
    "query_doc_tf_idf = tf_idf[query_doc_bow]\n",
    "\n",
    "import numpy as np\n",
    "\n",
    "sum_of_sims =(np.sum(sims[query_doc_tf_idf], dtype=np.float32))"
   ]
  },
  {
   "cell_type": "code",
   "execution_count": 120,
   "metadata": {},
   "outputs": [
    {
     "name": "stdout",
     "output_type": "stream",
     "text": [
      "La similitud entre estos mensjes es de este %: 29.09572124481201\n"
     ]
    }
   ],
   "source": [
    "print(f'La similitud entre estos mensjes es de este %: {float(sum_of_sims / len(file_docs)) * 100}')"
   ]
  },
  {
   "cell_type": "markdown",
   "metadata": {},
   "source": [
    "d) "
   ]
  },
  {
   "cell_type": "code",
   "execution_count": 124,
   "metadata": {},
   "outputs": [],
   "source": [
    "from sklearn.feature_extraction.text import CountVectorizer\n",
    "from sklearn.metrics.pairwise import cosine_similarity\n"
   ]
  },
  {
   "cell_type": "code",
   "execution_count": 125,
   "metadata": {},
   "outputs": [],
   "source": [
    "vectorizer = CountVectorizer().fit_transform(b) #fit transform pasa a 0,1...\n",
    "vectors = vectorizer.toarray() #calcula la matriz de vectores\n",
    "csim=cosine_similarity(vectors)"
   ]
  },
  {
   "cell_type": "code",
   "execution_count": 126,
   "metadata": {},
   "outputs": [
    {
     "data": {
      "text/plain": [
       "array([[1.        , 0.40567404, 0.03194383, 0.16574839, 0.07377111,\n",
       "        0.13093073, 0.        , 0.        ],\n",
       "       [0.40567404, 1.        , 0.18898224, 0.15689291, 0.34914862,\n",
       "        0.05163978, 0.06030227, 0.        ],\n",
       "       [0.03194383, 0.18898224, 1.        , 0.1111874 , 0.12371791,\n",
       "        0.14638501, 0.05698029, 0.        ],\n",
       "       [0.16574839, 0.15689291, 0.1111874 , 1.        , 0.12838815,\n",
       "        0.15191091, 0.        , 0.        ],\n",
       "       [0.07377111, 0.34914862, 0.12371791, 0.12838815, 1.        ,\n",
       "        0.        , 0.32897585, 0.        ],\n",
       "       [0.13093073, 0.05163978, 0.14638501, 0.15191091, 0.        ,\n",
       "        1.        , 0.        , 0.        ],\n",
       "       [0.        , 0.06030227, 0.05698029, 0.        , 0.32897585,\n",
       "        0.        , 1.        , 0.        ],\n",
       "       [0.        , 0.        , 0.        , 0.        , 0.        ,\n",
       "        0.        , 0.        , 1.        ]])"
      ]
     },
     "execution_count": 126,
     "metadata": {},
     "output_type": "execute_result"
    }
   ],
   "source": [
    "csim"
   ]
  },
  {
   "cell_type": "code",
   "execution_count": 129,
   "metadata": {},
   "outputs": [
    {
     "data": {
      "image/png": "[encoded data removed]",
      "text/plain": [
       "<Figure size 432x288 with 2 Axes>"
      ]
     },
     "metadata": {
      "needs_background": "light"
     },
     "output_type": "display_data"
    }
   ],
   "source": [
    "import seaborn as sns\n",
    "ax = sns.heatmap(csim, cmap='Blues')"
   ]
  },
  {
   "cell_type": "markdown",
   "metadata": {},
   "source": [
    "Se puede observar que la primera frase (posicion 0) y la segunda frase (posición 1) son los mensajes que mas se asemejan "
   ]
  },
  {
   "cell_type": "code",
   "execution_count": 130,
   "metadata": {},
   "outputs": [
    {
     "data": {
      "text/plain": [
       "('He estado corrigiendo los trabajos de Data Science y la parte de aprendizaje no supervisado la han realizado bastante bien, Â¿QuÃ© algoritmos de clustering has dado en clase?',\n",
       " 'Hola Dani, en la parte de no supervisado me he centrado sobre todo en el clustering por densidad. Hemos visto Optics, DBSCAN y HDSCAN')"
      ]
     },
     "execution_count": 130,
     "metadata": {},
     "output_type": "execute_result"
    }
   ],
   "source": [
    "b[0], b[1]"
   ]
  },
  {
   "cell_type": "code",
   "execution_count": null,
   "metadata": {},
   "outputs": [],
   "source": []
  }
 ],
 "metadata": {
  "kernelspec": {
   "display_name": "Python 3",
   "language": "python",
   "name": "python3"
  },
  "language_info": {
   "codemirror_mode": {
    "name": "ipython",
    "version": 3
   },
   "file_extension": ".py",
   "mimetype": "text/x-python",
   "name": "python",
   "nbconvert_exporter": "python",
   "pygments_lexer": "ipython3",
   "version": "3.7.7"
  }
 },
 "nbformat": 4,
 "nbformat_minor": 4
}
